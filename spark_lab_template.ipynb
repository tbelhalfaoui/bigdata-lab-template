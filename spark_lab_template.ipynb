{
 "cells": [
  {
   "cell_type": "markdown",
   "metadata": {
    "id": "ivauvqar5hbQ"
   },
   "source": [
    "# Setup"
   ]
  },
  {
   "cell_type": "markdown",
   "metadata": {
    "id": "jlSlJz3_rui9"
   },
   "source": [
    "## Spark session and context"
   ]
  },
  {
   "cell_type": "code",
   "execution_count": null,
   "metadata": {
    "id": "bhxdoEjlr1Pr"
   },
   "outputs": [],
   "source": [
    "!pip install pyspark"
   ]
  },
  {
   "cell_type": "code",
   "execution_count": null,
   "metadata": {
    "id": "ZuxhgTEArujA"
   },
   "outputs": [],
   "source": [
    "import pyspark\n",
    "spark = pyspark.sql.SparkSession.builder.getOrCreate()\n",
    "sc = spark.sparkContext"
   ]
  },
  {
   "cell_type": "markdown",
   "metadata": {
    "id": "RGrzPDNTrujB"
   },
   "source": [
    "## Spark Web UI"
   ]
  },
  {
   "cell_type": "code",
   "execution_count": null,
   "metadata": {
    "id": "zbUrKvCMx85H"
   },
   "outputs": [],
   "source": [
    "!pip install pyngrok"
   ]
  },
  {
   "cell_type": "code",
   "execution_count": null,
   "metadata": {
    "id": "Ftkf6H_AwCFo"
   },
   "outputs": [],
   "source": [
    "from pyngrok import ngrok\n",
    "\n",
    "for tunnel in ngrok.get_tunnels():\n",
    "    ngrok.disconnect(tunnel.public_url)\n",
    "ngrok.connect(4040).public_url"
   ]
  },
  {
   "cell_type": "markdown",
   "metadata": {
    "id": "pGNVFZw2y7fv"
   },
   "source": [
    "## Download the dataset\n"
   ]
  },
  {
   "cell_type": "code",
   "execution_count": null,
   "metadata": {
    "id": "2H29bAgq08y_"
   },
   "outputs": [],
   "source": [
    "!wget https://www.ncei.noaa.gov/pub/data/uscrn/products/hourly02/snapshots/CRNH0203-202101180550.zip"
   ]
  },
  {
   "cell_type": "code",
   "execution_count": null,
   "metadata": {
    "id": "SiRE5P982y2c"
   },
   "outputs": [],
   "source": [
    "!unzip CRNH0203-202101180550.zip -d data"
   ]
  }
 ],
 "metadata": {
  "colab": {
   "collapsed_sections": [
    "ivauvqar5hbQ",
    "jlSlJz3_rui9",
    "RGrzPDNTrujB",
    "OYHPkBnErujC",
    "qF-w8eqcrujH",
    "HsKOCC3grujK",
    "8UcRwMQ0rujL",
    "EAWzxCZbrujR"
   ],
   "name": "spark_lab.ipynb",
   "provenance": []
  },
  "kernelspec": {
   "display_name": "Python 3",
   "language": "python",
   "name": "python3"
  },
  "language_info": {
   "codemirror_mode": {
    "name": "ipython",
    "version": 3
   },
   "file_extension": ".py",
   "mimetype": "text/x-python",
   "name": "python",
   "nbconvert_exporter": "python",
   "pygments_lexer": "ipython3",
   "version": "3.6.9"
  }
 },
 "nbformat": 4,
 "nbformat_minor": 1
}
